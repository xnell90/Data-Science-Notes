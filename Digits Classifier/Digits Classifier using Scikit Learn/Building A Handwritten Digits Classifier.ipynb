{
 "cells": [
  {
   "cell_type": "markdown",
   "metadata": {},
   "source": [
    "# Working With Image Data"
   ]
  },
  {
   "cell_type": "code",
   "execution_count": 13,
   "metadata": {},
   "outputs": [],
   "source": [
    "# Importing the necessary libraries\n",
    "import numpy as np\n",
    "import matplotlib.pyplot as plt\n",
    "import sklearn.datasets\n",
    "from sklearn.model_selection import KFold\n",
    "from sklearn.metrics import accuracy_score"
   ]
  },
  {
   "cell_type": "code",
   "execution_count": 2,
   "metadata": {},
   "outputs": [
    {
     "name": "stdout",
     "output_type": "stream",
     "text": [
      ".. _digits_dataset:\n",
      "\n",
      "Optical recognition of handwritten digits dataset\n",
      "--------------------------------------------------\n",
      "\n",
      "**Data Set Characteristics:**\n",
      "\n",
      "    :Number of Instances: 5620\n",
      "    :Number of Attributes: 64\n",
      "    :Attribute Information: 8x8 image of integer pixels in the range 0..16.\n",
      "    :Missing Attribute Values: None\n",
      "    :Creator: E. Alpaydin (alpaydin '@' boun.edu.tr)\n",
      "    :Date: July; 1998\n",
      "\n",
      "This is a copy of the test set of the UCI ML hand-written digits datasets\n",
      "http://archive.ics.uci.edu/ml/datasets/Optical+Recognition+of+Handwritten+Digits\n",
      "\n",
      "The data set contains images of hand-written digits: 10 classes where\n",
      "each class refers to a digit.\n",
      "\n",
      "Preprocessing programs made available by NIST were used to extract\n",
      "normalized bitmaps of handwritten digits from a preprinted form. From a\n",
      "total of 43 people, 30 contributed to the training set and different 13\n",
      "to the test set. 32x32 bitmaps are divided into nonoverlapping blocks of\n",
      "4x4 and the number of on pixels are counted in each block. This generates\n",
      "an input matrix of 8x8 where each element is an integer in the range\n",
      "0..16. This reduces dimensionality and gives invariance to small\n",
      "distortions.\n",
      "\n",
      "For info on NIST preprocessing routines, see M. D. Garris, J. L. Blue, G.\n",
      "T. Candela, D. L. Dimmick, J. Geist, P. J. Grother, S. A. Janet, and C.\n",
      "L. Wilson, NIST Form-Based Handprint Recognition System, NISTIR 5469,\n",
      "1994.\n",
      "\n",
      ".. topic:: References\n",
      "\n",
      "  - C. Kaynak (1995) Methods of Combining Multiple Classifiers and Their\n",
      "    Applications to Handwritten Digit Recognition, MSc Thesis, Institute of\n",
      "    Graduate Studies in Science and Engineering, Bogazici University.\n",
      "  - E. Alpaydin, C. Kaynak (1998) Cascading Classifiers, Kybernetika.\n",
      "  - Ken Tang and Ponnuthurai N. Suganthan and Xi Yao and A. Kai Qin.\n",
      "    Linear dimensionalityreduction using relevance weighted LDA. School of\n",
      "    Electrical and Electronic Engineering Nanyang Technological University.\n",
      "    2005.\n",
      "  - Claudio Gentile. A New Approximate Maximal Margin Classification\n",
      "    Algorithm. NIPS. 2000.\n"
     ]
    }
   ],
   "source": [
    "# digits is a dictionary with the following keys\n",
    "# 1) 'data'        : \n",
    "#       List of all images, where each image is represented as a 1 x 64 numpy array\n",
    "# 2) 'target'      : \n",
    "#       List of all target labels that correspond to the images in 'data'.\n",
    "# 3) 'target_names': \n",
    "#       Gives the list of digits (0 - 9). Each digit has about 180 images\n",
    "# 4) 'images'      : \n",
    "#       Gives the 8 x 8 images as a numpy array. There are 1797 images in total\n",
    "#       in the dataset.\n",
    "# 5) 'DESCR'       : \n",
    "#       Gives the description of the digtis dataset\n",
    "digits = sklearn.datasets.load_digits()\n",
    "print(digits['DESCR'])"
   ]
  },
  {
   "cell_type": "code",
   "execution_count": 3,
   "metadata": {},
   "outputs": [
    {
     "data": {
      "image/png": "[encoded data removed]",
      "text/plain": [
       "<Figure size 720x720 with 16 Axes>"
      ]
     },
     "metadata": {
      "needs_background": "light"
     },
     "output_type": "display_data"
    }
   ],
   "source": [
    "#A sample of the images in the data set.\n",
    "fig, axes = plt.subplots(4, 4, figsize = (10, 10))\n",
    "\n",
    "samples = np.array([\n",
    "    [1,     100,  200, 300],\n",
    "    [1000, 1100, 1200, 300],\n",
    "    [500,   600,  700, 800],\n",
    "    [20,     40,   60,  80]\n",
    "])\n",
    "\n",
    "for row in range(0, 4):\n",
    "    for col in range(0, 4):\n",
    "        current_image = digits['data'][samples[row, col]].reshape(8,8)\n",
    "        axes[row, col].set_title(str(digits['target'][samples[row, col]]))\n",
    "        axes[row, col].axis('off')\n",
    "        axes[row, col].imshow(current_image)\n",
    "        \n"
   ]
  },
  {
   "cell_type": "markdown",
   "metadata": {},
   "source": [
    "# Models For Classifying Digits"
   ]
  },
  {
   "cell_type": "markdown",
   "metadata": {},
   "source": [
    "## K Nearest Neighbors"
   ]
  },
  {
   "cell_type": "code",
   "execution_count": 4,
   "metadata": {},
   "outputs": [],
   "source": [
    "from sklearn.neighbors import KNeighborsClassifier"
   ]
  },
  {
   "cell_type": "code",
   "execution_count": 5,
   "metadata": {},
   "outputs": [
    {
     "data": {
      "image/png": "[encoded data removed]",
      "text/plain": [
       "<Figure size 432x288 with 1 Axes>"
      ]
     },
     "metadata": {
      "needs_background": "light"
     },
     "output_type": "display_data"
    }
   ],
   "source": [
    "def train(features, targets, k):\n",
    "    model = KNeighborsClassifier(n_neighbors = k)\n",
    "    model.fit(features, targets)\n",
    "    \n",
    "    return model\n",
    "\n",
    "def test(model, features, actual_targets):\n",
    "    predicted_targets = model.predict(features)\n",
    "    accuracy = accuracy_score(actual_targets, predicted_targets)\n",
    "    \n",
    "    return accuracy \n",
    "    \n",
    "def cross_validate(n_splits = 4, k = 5):\n",
    "    accuracies = []\n",
    "    kf = KFold(n_splits = n_splits, random_state = 2)\n",
    "    \n",
    "    for train_index, test_index in kf.split(digits['data']):\n",
    "        X_train = digits['data'][train_index]\n",
    "        Y_train = digits['target'][train_index]\n",
    "        \n",
    "        X_test = digits['data'][test_index]\n",
    "        Y_test = digits['target'][test_index]\n",
    "        \n",
    "        model = train(X_train, Y_train, k)\n",
    "        accuracy = test(model, X_test, Y_test)\n",
    "        \n",
    "        accuracies.append(accuracy)\n",
    "    \n",
    "    return np.mean(accuracies)\n",
    "\n",
    "k_s = list(range(1, 10))\n",
    "mean_accuracies = []\n",
    "\n",
    "for k in k_s:\n",
    "    mean_accuracy = cross_validate(k = k)\n",
    "    mean_accuracies.append(mean_accuracy)\n",
    "    \n",
    "plt.plot(k_s, mean_accuracies)\n",
    "plt.ylim(0.95, 0.97)\n",
    "plt.title(\"Mean Accuracy vs. K\")\n",
    "plt.xlabel(\"K\")\n",
    "plt.ylabel(\"Mean Accuracy\")\n",
    "plt.show()"
   ]
  },
  {
   "cell_type": "markdown",
   "metadata": {},
   "source": [
    "## Neural Network with One Layer"
   ]
  },
  {
   "cell_type": "code",
   "execution_count": 6,
   "metadata": {},
   "outputs": [],
   "source": [
    "from sklearn.neural_network import MLPClassifier"
   ]
  },
  {
   "cell_type": "code",
   "execution_count": 19,
   "metadata": {},
   "outputs": [
    {
     "data": {
      "image/png": "[encoded data removed]",
      "text/plain": [
       "<Figure size 432x288 with 1 Axes>"
      ]
     },
     "metadata": {
      "needs_background": "light"
     },
     "output_type": "display_data"
    }
   ],
   "source": [
    "def train(features, targets, k):\n",
    "    model = MLPClassifier(hidden_layer_sizes = (k, ))\n",
    "    model.fit(features, targets)\n",
    "    \n",
    "    return model\n",
    "\n",
    "def test(model, features, actual_targets):\n",
    "    predicted_targets = model.predict(features)\n",
    "    accuracy = accuracy_score(actual_targets, predicted_targets)\n",
    "    \n",
    "    return accuracy \n",
    "    \n",
    "def cross_validate(k, n_splits = 4):\n",
    "    accuracies = []\n",
    "    kf = KFold(n_splits = n_splits, random_state = 2)\n",
    "    \n",
    "    for train_index, test_index in kf.split(digits['data']):\n",
    "        X_train = digits['data'][train_index]\n",
    "        Y_train = digits['target'][train_index]\n",
    "        \n",
    "        X_test = digits['data'][test_index]\n",
    "        Y_test = digits['target'][test_index]\n",
    "        \n",
    "        with warnings.catch_warnings():\n",
    "            warnings.filterwarnings(\"ignore\")\n",
    "            model = train(X_train, Y_train, k)\n",
    "          \n",
    "        accuracy = test(model, X_test, Y_test)\n",
    "        accuracies.append(accuracy)\n",
    "    \n",
    "    return np.mean(accuracies)\n",
    "\n",
    "k_s = list(range(1, 10))\n",
    "mean_accuracies = []\n",
    "\n",
    "for k_ in k_s:\n",
    "    mean_accuracy = cross_validate(k = (2 ** k_))\n",
    "    mean_accuracies.append(mean_accuracy)\n",
    "    \n",
    "plt.plot(k_s, mean_accuracies)\n",
    "plt.ylim(0, 1)\n",
    "plt.title(\"Mean Accuracy vs. Log of Number of Neurons\")\n",
    "plt.xlabel(\"Log(n) [n = number of neurons]\")\n",
    "plt.ylabel(\"Mean Accuracy\")\n",
    "plt.show()"
   ]
  },
  {
   "cell_type": "markdown",
   "metadata": {},
   "source": [
    "## Neural Network with Two Layers"
   ]
  },
  {
   "cell_type": "code",
   "execution_count": 20,
   "metadata": {},
   "outputs": [
    {
     "data": {
      "image/png": "[encoded data removed]",
      "text/plain": [
       "<Figure size 432x288 with 1 Axes>"
      ]
     },
     "metadata": {
      "needs_background": "light"
     },
     "output_type": "display_data"
    }
   ],
   "source": [
    "def train(features, targets, k):\n",
    "    model = MLPClassifier(hidden_layer_sizes = (k, k, ))\n",
    "    model.fit(features, targets)\n",
    "    \n",
    "    return model\n",
    "\n",
    "def test(model, features, actual_targets):\n",
    "    predicted_targets = model.predict(features)\n",
    "    accuracy = accuracy_score(actual_targets, predicted_targets)\n",
    "    \n",
    "    return accuracy \n",
    "    \n",
    "def cross_validate(k, n_splits = 4):\n",
    "    accuracies = []\n",
    "    kf = KFold(n_splits = n_splits, random_state = 2)\n",
    "    \n",
    "    for train_index, test_index in kf.split(digits['data']):\n",
    "        X_train = digits['data'][train_index]\n",
    "        Y_train = digits['target'][train_index]\n",
    "        \n",
    "        X_test = digits['data'][test_index]\n",
    "        Y_test = digits['target'][test_index]\n",
    "        \n",
    "        with warnings.catch_warnings():\n",
    "            warnings.filterwarnings(\"ignore\")\n",
    "            model = train(X_train, Y_train, k)\n",
    "          \n",
    "        accuracy = test(model, X_test, Y_test)\n",
    "        accuracies.append(accuracy)\n",
    "    \n",
    "    return np.mean(accuracies)\n",
    "\n",
    "k_s = list(range(1, 10))\n",
    "mean_accuracies = []\n",
    "\n",
    "for k_ in k_s:\n",
    "    mean_accuracy = cross_validate(k = (2 ** k_))\n",
    "    mean_accuracies.append(mean_accuracy)\n",
    "    \n",
    "plt.plot(k_s, mean_accuracies)\n",
    "plt.ylim(0, 1)\n",
    "plt.title(\"Mean Accuracy vs. Log of Number of Neurons\")\n",
    "plt.xlabel(\"Log(n) [n = number of neurons]\")\n",
    "plt.ylabel(\"Mean Accuracy\")\n",
    "plt.show()"
   ]
  }
 ],
 "metadata": {
  "kernelspec": {
   "display_name": "Python 3",
   "language": "python",
   "name": "python3"
  },
  "language_info": {
   "codemirror_mode": {
    "name": "ipython",
    "version": 3
   },
   "file_extension": ".py",
   "mimetype": "text/x-python",
   "name": "python",
   "nbconvert_exporter": "python",
   "pygments_lexer": "ipython3",
   "version": "3.7.2"
  }
 },
 "nbformat": 4,
 "nbformat_minor": 2
}
