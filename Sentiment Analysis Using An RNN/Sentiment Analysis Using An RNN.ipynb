{
 "cells": [
  {
   "cell_type": "markdown",
   "metadata": {},
   "source": [
    "# Sentiment Analysis Using An RNN"
   ]
  },
  {
   "cell_type": "markdown",
   "metadata": {},
   "source": [
    "## Import Necessary Libraries."
   ]
  },
  {
   "cell_type": "code",
   "execution_count": 1,
   "metadata": {},
   "outputs": [],
   "source": [
    "from tensorflow.keras import Sequential\n",
    "from tensorflow.keras.datasets import imdb\n",
    "from tensorflow.keras.layers import Embedding, LSTM, Dense, Dropout\n",
    "from tensorflow.keras.preprocessing.sequence import pad_sequences"
   ]
  },
  {
   "cell_type": "markdown",
   "metadata": {},
   "source": [
    "## IMDB Dataset"
   ]
  },
  {
   "cell_type": "markdown",
   "metadata": {},
   "source": [
    "### Load The Dataset"
   ]
  },
  {
   "cell_type": "code",
   "execution_count": 2,
   "metadata": {},
   "outputs": [
    {
     "name": "stdout",
     "output_type": "stream",
     "text": [
      "Loaded dataset with 25000 training samples, 25000 testing samples \n",
      "\n",
      "Extract the 6th index of the dataset\n",
      "[1, 2, 365, 1234, 5, 1156, 354, 11, 14, 2, 2, 7, 1016, 2, 2, 356, 44, 4, 1349, 500, 746, 5, 200, 4, 4132, 11, 2, 2, 1117, 1831, 2, 5, 4831, 26, 6, 2, 4183, 17, 369, 37, 215, 1345, 143, 2, 5, 1838, 8, 1974, 15, 36, 119, 257, 85, 52, 486, 9, 6, 2, 2, 63, 271, 6, 196, 96, 949, 4121, 4, 2, 7, 4, 2212, 2436, 819, 63, 47, 77, 2, 180, 6, 227, 11, 94, 2494, 2, 13, 423, 4, 168, 7, 4, 22, 5, 89, 665, 71, 270, 56, 5, 13, 197, 12, 161, 2, 99, 76, 23, 2, 7, 419, 665, 40, 91, 85, 108, 7, 4, 2084, 5, 4773, 81, 55, 52, 1901]\n"
     ]
    }
   ],
   "source": [
    "vocabulary_size = 5000\n",
    "(X, y), (X_test, y_test) = imdb.load_data(num_words = vocabulary_size)\n",
    "print(\"Loaded dataset with {} training samples, {} testing samples \\n\".format(len(X), len(X_test)))\n",
    "\n",
    "print(\"Extract the 6th index of the dataset\")\n",
    "print(X[6])"
   ]
  },
  {
   "cell_type": "markdown",
   "metadata": {},
   "source": [
    "### Sample A Review From The Dataset"
   ]
  },
  {
   "cell_type": "code",
   "execution_count": 3,
   "metadata": {},
   "outputs": [
    {
     "name": "stdout",
     "output_type": "stream",
     "text": [
      "Full Review: \n",
      "\n",
      "the and full involving to impressive boring this as and and br villain and and need has of costumes b message to may of props this and and concept issue and to god's he is and unfolds movie women like isn't surely i'm and to toward in here's for from did having because very quality it is and and really book is both too worked carl of and br of reviewer closer figure really there will and things is far this make mistakes and was couldn't of few br of you to don't female than place she to was between that nothing and movies get are and br yes female just its because many br of overly to descent people time very bland \n",
      "\n",
      "Score:  1\n",
      "1\n"
     ]
    }
   ],
   "source": [
    "word_to_encoding = imdb.get_word_index()\n",
    "encoding_to_word = {encoding: word for word, encoding in word_to_encoding.items()}\n",
    "\n",
    "def read_review(index):\n",
    "    return \" \".join([encoding_to_word[encoding] for encoding in X[index]])\n",
    "\n",
    "def read_score(index):\n",
    "    return y[index]\n",
    "\n",
    "print(\"Full Review: \\n\")\n",
    "print(read_review(6), \"\\n\")\n",
    "\n",
    "print(\"Score: \", read_score(6))\n",
    "print(read_score(6))"
   ]
  },
  {
   "cell_type": "markdown",
   "metadata": {},
   "source": [
    "### Find The Longest Review"
   ]
  },
  {
   "cell_type": "code",
   "execution_count": 4,
   "metadata": {},
   "outputs": [
    {
     "name": "stdout",
     "output_type": "stream",
     "text": [
      "Length of Longest Review:  2494\n"
     ]
    }
   ],
   "source": [
    "max_review_length = max(len(max(X, key = len)), len(max(X_test, key = len)))\n",
    "print(\"Length of Longest Review: \", max_review_length)"
   ]
  },
  {
   "cell_type": "markdown",
   "metadata": {},
   "source": [
    "### Find The Shortest Review"
   ]
  },
  {
   "cell_type": "code",
   "execution_count": 5,
   "metadata": {},
   "outputs": [
    {
     "name": "stdout",
     "output_type": "stream",
     "text": [
      "Length of Shortest Review:  11\n"
     ]
    }
   ],
   "source": [
    "min_review_length = max(len(min(X, key = len)), len(min(X_test, key = len)))\n",
    "print(\"Length of Shortest Review: \", min_review_length)"
   ]
  },
  {
   "cell_type": "markdown",
   "metadata": {},
   "source": [
    "### Pad Sequences"
   ]
  },
  {
   "cell_type": "code",
   "execution_count": 6,
   "metadata": {},
   "outputs": [],
   "source": [
    "max_words = 500\n",
    "\n",
    "X      = pad_sequences(X, maxlen = max_words)\n",
    "X_test = pad_sequences(X_test, maxlen = max_words)"
   ]
  },
  {
   "cell_type": "markdown",
   "metadata": {},
   "source": [
    "## Model Creation And Training"
   ]
  },
  {
   "cell_type": "markdown",
   "metadata": {},
   "source": [
    "### Defining The RNN Model"
   ]
  },
  {
   "cell_type": "code",
   "execution_count": 7,
   "metadata": {},
   "outputs": [
    {
     "name": "stdout",
     "output_type": "stream",
     "text": [
      "Model: \"sequential\"\n",
      "_________________________________________________________________\n",
      "Layer (type)                 Output Shape              Param #   \n",
      "=================================================================\n",
      "embedding (Embedding)        (None, 500, 32)           160000    \n",
      "_________________________________________________________________\n",
      "lstm (LSTM)                  (None, 100)               53200     \n",
      "_________________________________________________________________\n",
      "dense (Dense)                (None, 1)                 101       \n",
      "=================================================================\n",
      "Total params: 213,301\n",
      "Trainable params: 213,301\n",
      "Non-trainable params: 0\n",
      "_________________________________________________________________\n",
      "None\n"
     ]
    }
   ],
   "source": [
    "embedding_size = 32\n",
    "\n",
    "model = Sequential(\n",
    "    [\n",
    "        Embedding(vocabulary_size, embedding_size, input_length = max_words),\n",
    "        LSTM(100),\n",
    "        Dense(1, activation = 'sigmoid')\n",
    "    ]\n",
    ")\n",
    "\n",
    "print(model.summary())"
   ]
  },
  {
   "cell_type": "markdown",
   "metadata": {},
   "source": [
    "### Compile The Model"
   ]
  },
  {
   "cell_type": "code",
   "execution_count": 8,
   "metadata": {},
   "outputs": [],
   "source": [
    "model.compile(loss = 'binary_crossentropy', optimizer = 'adam', metrics = ['accuracy'])"
   ]
  },
  {
   "cell_type": "markdown",
   "metadata": {},
   "source": [
    "### Train And Evaluate Model"
   ]
  },
  {
   "cell_type": "code",
   "execution_count": 9,
   "metadata": {},
   "outputs": [
    {
     "name": "stdout",
     "output_type": "stream",
     "text": [
      "Train on 24936 samples, validate on 64 samples\n",
      "Epoch 1/3\n",
      "24936/24936 [==============================] - 268s 11ms/sample - loss: 0.5296 - accuracy: 0.7337 - val_loss: 0.2579 - val_accuracy: 0.9688\n",
      "Epoch 2/3\n",
      "24936/24936 [==============================] - 273s 11ms/sample - loss: 0.3023 - accuracy: 0.8799 - val_loss: 0.2168 - val_accuracy: 0.9375\n",
      "Epoch 3/3\n",
      "24936/24936 [==============================] - 267s 11ms/sample - loss: 0.2505 - accuracy: 0.9019 - val_loss: 0.3241 - val_accuracy: 0.8594\n"
     ]
    },
    {
     "data": {
      "text/plain": [
       "<tensorflow.python.keras.callbacks.History at 0x7f9ba0ffa190>"
      ]
     },
     "execution_count": 9,
     "metadata": {},
     "output_type": "execute_result"
    }
   ],
   "source": [
    "X_train, y_train = X[64:], y[64:]\n",
    "X_valid, y_valid = X[:64], y[:64]\n",
    "\n",
    "model.fit(X_train, y_train, validation_data = (X_valid, y_valid), batch_size = 64, epochs = 3)"
   ]
  },
  {
   "cell_type": "code",
   "execution_count": 10,
   "metadata": {},
   "outputs": [
    {
     "name": "stdout",
     "output_type": "stream",
     "text": [
      "25000/25000 [==============================] - 78s 3ms/sample - loss: 0.3887 - accuracy: 0.8246\n",
      "Test Accuracy:  0.82464\n"
     ]
    }
   ],
   "source": [
    "scores = model.evaluate(X_test, y_test)\n",
    "print(\"Test Accuracy: \", scores[1])"
   ]
  }
 ],
 "metadata": {
  "kernelspec": {
   "display_name": "Python 3",
   "language": "python",
   "name": "python3"
  },
  "language_info": {
   "codemirror_mode": {
    "name": "ipython",
    "version": 3
   },
   "file_extension": ".py",
   "mimetype": "text/x-python",
   "name": "python",
   "nbconvert_exporter": "python",
   "pygments_lexer": "ipython3",
   "version": "3.7.4"
  }
 },
 "nbformat": 4,
 "nbformat_minor": 4
}
