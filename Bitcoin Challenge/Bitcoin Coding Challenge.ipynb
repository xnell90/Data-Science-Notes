{
 "cells": [
  {
   "cell_type": "code",
   "execution_count": 3,
   "metadata": {},
   "outputs": [],
   "source": [
    "import numpy as np\n",
    "import pandas as pd\n",
    "import matplotlib.pyplot as plt"
   ]
  },
  {
   "cell_type": "markdown",
   "metadata": {},
   "source": [
    "# Problem"
   ]
  },
  {
   "cell_type": "code",
   "execution_count": 2,
   "metadata": {},
   "outputs": [],
   "source": [
    "# Question 1: Generate Bitcoin Prices \n",
    "#    1.1) Generate 365 random numbers (precision = 2 digits) between $999.99 and $7,999.99 (Bitcoin Prices) \n",
    "#    1.2) Create a dataframe with 365 successive dates and random numbers (Date, Random Numbers from 1.1) \n",
    "#    1.3) Print the mean and median of the generated Bitcoin prices \n",
    "#    1.4) Print the dates for all the days where the price is greater than $5,000 \n",
    "    \n",
    "# Question 2: Invest in Bitcoin \n",
    "#    Write a function that does the following: \n",
    "#    2.1) Start with $10,000 in Cash Wallet and 0 units in Bitcoin Wallet. \n",
    "#    2.2) Day 1 - Buy $5,000 of Bitcoin. \n",
    "#         Day 2 - 365, Assume that you the price of Bitcoin going backward.\n",
    "#          - If price increased for the last two days sell 50% of Bit Coin Wallet \n",
    "#          - Else if price reduced consecutively previous two days, buy Bitcoin using 50% of cash wallet.\n",
    "#          - Otherwise, continue with no transaction. \n",
    "    \n",
    "# What is your net worth in Dollars[Cash + Bitcoin] at the end of 365 days?"
   ]
  },
  {
   "cell_type": "markdown",
   "metadata": {},
   "source": [
    "# Solution (Question 1)"
   ]
  },
  {
   "cell_type": "code",
   "execution_count": 62,
   "metadata": {},
   "outputs": [
    {
     "name": "stdout",
     "output_type": "stream",
     "text": [
      "Daily Bitcoin Prices (For The First 20 days)\n"
     ]
    },
    {
     "data": {
      "text/html": [
       "<div>\n",
       "<style scoped>\n",
       "    .dataframe tbody tr th:only-of-type {\n",
       "        vertical-align: middle;\n",
       "    }\n",
       "\n",
       "    .dataframe tbody tr th {\n",
       "        vertical-align: top;\n",
       "    }\n",
       "\n",
       "    .dataframe thead th {\n",
       "        text-align: right;\n",
       "    }\n",
       "</style>\n",
       "<table border=\"1\" class=\"dataframe\">\n",
       "  <thead>\n",
       "    <tr style=\"text-align: right;\">\n",
       "      <th>Day</th>\n",
       "      <th>1</th>\n",
       "      <th>2</th>\n",
       "      <th>3</th>\n",
       "      <th>4</th>\n",
       "      <th>5</th>\n",
       "      <th>6</th>\n",
       "      <th>7</th>\n",
       "      <th>8</th>\n",
       "      <th>9</th>\n",
       "      <th>10</th>\n",
       "      <th>11</th>\n",
       "      <th>12</th>\n",
       "      <th>13</th>\n",
       "      <th>14</th>\n",
       "      <th>15</th>\n",
       "      <th>16</th>\n",
       "      <th>17</th>\n",
       "      <th>18</th>\n",
       "      <th>19</th>\n",
       "      <th>20</th>\n",
       "    </tr>\n",
       "  </thead>\n",
       "  <tbody>\n",
       "    <tr>\n",
       "      <th>Bitcoin Price</th>\n",
       "      <td>7012.55</td>\n",
       "      <td>5859.25</td>\n",
       "      <td>3862.42</td>\n",
       "      <td>7490.92</td>\n",
       "      <td>7289.54</td>\n",
       "      <td>4876.36</td>\n",
       "      <td>4099.06</td>\n",
       "      <td>5839.87</td>\n",
       "      <td>4828.83</td>\n",
       "      <td>1910.67</td>\n",
       "      <td>7109.09</td>\n",
       "      <td>7940.65</td>\n",
       "      <td>2981.83</td>\n",
       "      <td>5783.54</td>\n",
       "      <td>1483.32</td>\n",
       "      <td>4888.14</td>\n",
       "      <td>1461.06</td>\n",
       "      <td>2412.09</td>\n",
       "      <td>1580.34</td>\n",
       "      <td>4851.63</td>\n",
       "    </tr>\n",
       "  </tbody>\n",
       "</table>\n",
       "</div>"
      ],
      "text/plain": [
       "Day                 1        2        3        4        5        6        7   \\\n",
       "Bitcoin Price  7012.55  5859.25  3862.42  7490.92  7289.54  4876.36  4099.06   \n",
       "\n",
       "Day                 8        9        10       11       12       13       14  \\\n",
       "Bitcoin Price  5839.87  4828.83  1910.67  7109.09  7940.65  2981.83  5783.54   \n",
       "\n",
       "Day                 15       16       17       18       19       20  \n",
       "Bitcoin Price  1483.32  4888.14  1461.06  2412.09  1580.34  4851.63  "
      ]
     },
     "metadata": {},
     "output_type": "display_data"
    },
    {
     "name": "stdout",
     "output_type": "stream",
     "text": [
      "Mean Bitcoin Prices: \t4473.926904\n",
      "Median Bitcoin Prices: \t4464.040000\n",
      "\n",
      "Here are the days where bitcoin prices where above $5000.00:\n",
      "  1,   2,   4,   5,   8,  11,  12,  14,  24,  31,  32,  33,  39,  40, \n",
      " 43,  44,  45,  46,  47,  48,  50,  55,  58,  59,  61,  63,  66,  67, \n",
      " 71,  73,  74,  76,  77,  78,  79,  80,  82,  84,  89,  91,  92,  94, \n",
      "106, 107, 108, 117, 118, 119, 127, 128, 129, 131, 134, 136, 137, 139, \n",
      "148, 149, 150, 153, 154, 156, 159, 160, 162, 166, 167, 169, 172, 174, \n",
      "179, 180, 181, 182, 186, 191, 193, 195, 199, 200, 204, 205, 211, 213, \n",
      "220, 221, 223, 224, 229, 230, 231, 238, 241, 242, 243, 244, 246, 248, \n",
      "253, 255, 257, 258, 259, 263, 264, 268, 270, 275, 279, 280, 281, 282, \n",
      "286, 287, 290, 298, 302, 303, 304, 306, 311, 312, 315, 316, 320, 321, \n",
      "328, 329, 331, 332, 334, 335, 336, 341, 342, 343, 344, 349, 350, 351, \n",
      "359, 362, 365, \n"
     ]
    }
   ],
   "source": [
    "#1.1)\n",
    "bitcoin_prices = 7000 * np.random.rand(365) + 999.99\n",
    "bitcoin_prices = np.round(bitcoin_prices, 2)\n",
    "\n",
    "#1.2)\n",
    "Bitcoins = {'Bitcoin Price': bitcoin_prices}\n",
    "\n",
    "daily_bitcoin_prices = pd.DataFrame(Bitcoins, columns = ['Bitcoin Price'])\n",
    "daily_bitcoin_prices.index += 1\n",
    "daily_bitcoin_prices.index.names = ['Day']\n",
    "\n",
    "print(\"Daily Bitcoin Prices (For The First 20 days)\")\n",
    "display(daily_bitcoin_prices.head(20).transpose())\n",
    "\n",
    "#1.3)\n",
    "mean   = daily_bitcoin_prices['Bitcoin Price'].mean()\n",
    "median = daily_bitcoin_prices['Bitcoin Price'].median()\n",
    "\n",
    "print(\"Mean Bitcoin Prices: \\t%f\" % mean)\n",
    "print(\"Median Bitcoin Prices: \\t%f\\n\" % median)\n",
    "\n",
    "#1.4)\n",
    "day_5000 = daily_bitcoin_prices['Bitcoin Price'] > 5000\n",
    "print(\"Here are the days where bitcoin prices where above $5000.00:\")\n",
    "days_over_5000 = list(daily_bitcoin_prices[day_5000].index)\n",
    "\n",
    "print_string   = \"\"\n",
    "for i, day in enumerate(days_over_5000):\n",
    "    if (i + 1) % 15 == 0:\n",
    "        print_string += '\\n'\n",
    "    else:\n",
    "        print_string += \"%3d, \" % day\n",
    "\n",
    "print(print_string)"
   ]
  },
  {
   "cell_type": "markdown",
   "metadata": {},
   "source": [
    "# Solution (Question 2)"
   ]
  },
  {
   "cell_type": "code",
   "execution_count": 82,
   "metadata": {},
   "outputs": [],
   "source": [
    "def run_strategy():\n",
    "    current_cash = 10000\n",
    "    current_bitcoins = 0\n",
    "\n",
    "    cash_history     = []\n",
    "    bitcoins_history = []\n",
    "\n",
    "    for day in daily_bitcoin_prices.index:\n",
    "        if day >= 2:\n",
    "            current_bitcoin_price  = float(daily_bitcoin_prices.loc[day])\n",
    "            previous_bitcoin_price = float(daily_bitcoin_prices.loc[day - 1])\n",
    "        \n",
    "            difference = current_bitcoin_price - previous_bitcoin_price\n",
    "        \n",
    "            if difference > 0:\n",
    "                bitcoins_to_sell  = current_bitcoins / 2\n",
    "                revenue           = current_bitcoin_price * bitcoins_to_sell\n",
    "            \n",
    "                current_bitcoins -= bitcoins_to_sell\n",
    "                current_cash     += revenue \n",
    "            elif difference < 0:\n",
    "                payment = current_cash / 2\n",
    "                bitcoins_to_buy = payment / current_bitcoin_price\n",
    "            \n",
    "                current_bitcoins += bitcoins_to_buy\n",
    "                current_cash     -= payment\n",
    "        \n",
    "            cash_history.append(current_cash)\n",
    "            bitcoins_history.append(current_bitcoins)\n",
    "        else:\n",
    "            payment = 5000\n",
    "            current_bitcoin_price = float(daily_bitcoin_prices.loc[day])\n",
    "        \n",
    "            current_cash     -= payment\n",
    "            current_bitcoins += (payment / current_bitcoin_price)\n",
    "        \n",
    "            cash_history.append(current_cash)\n",
    "            bitcoins_history.append(current_bitcoins)\n",
    "        \n",
    "    return current_cash, current_bitcoins, cash_history, bitcoins_history\n",
    "\n",
    "current_cash, current_bitcoins, cash_history, bitcoins_history = run_strategy()"
   ]
  },
  {
   "cell_type": "code",
   "execution_count": 139,
   "metadata": {},
   "outputs": [
    {
     "name": "stdout",
     "output_type": "stream",
     "text": [
      "Current Cash: \t\t 13431582335510417408.00 \n",
      "Current Bitcoin Amount:      1915056287549454.50\n",
      "Total Value: \t\t 24353895215357100032.00\n"
     ]
    }
   ],
   "source": [
    "print(\"Current Cash: \\t\\t %0.2f \" % current_cash)\n",
    "print(\"Current Bitcoin Amount:      %0.2f\" % current_bitcoins)\n",
    "\n",
    "total_value = current_cash + current_bitcoins * daily_bitcoin_prices.loc[day]\n",
    "print(\"Total Value: \\t\\t %0.2f\" % total_value)"
   ]
  },
  {
   "cell_type": "code",
   "execution_count": 148,
   "metadata": {},
   "outputs": [
    {
     "data": {
      "image/png": "[encoded data removed]",
      "text/plain": [
       "<Figure size 432x288 with 1 Axes>"
      ]
     },
     "metadata": {
      "needs_background": "light"
     },
     "output_type": "display_data"
    }
   ],
   "source": [
    "days           = list(daily_bitcoin_prices.index)\n",
    "bitcoin_prices = daily_bitcoin_prices['Bitcoin Price']\n",
    "\n",
    "plt.plot(days, cash_history,color = 'green', label = \"Current Cash in $\")\n",
    "plt.plot(days, bitcoin_prices, color = 'red', label = 'Bitcoin Price in $')\n",
    "\n",
    "plt.xlim(1, 365)\n",
    "plt.ylim(0, 200000)\n",
    "\n",
    "plt.xlabel(\"Day\")\n",
    "plt.ylabel(\"$\")\n",
    "\n",
    "plt.legend(loc = 'upper right')\n",
    "plt.title(\"Plot of Current Cash and Bitcoin Price for days 1 to 365\")\n",
    "\n",
    "plt.show()\n"
   ]
  },
  {
   "cell_type": "code",
   "execution_count": 156,
   "metadata": {},
   "outputs": [
    {
     "data": {
      "image/png": "[encoded data removed]",
      "text/plain": [
       "<Figure size 432x288 with 1 Axes>"
      ]
     },
     "metadata": {
      "needs_background": "light"
     },
     "output_type": "display_data"
    }
   ],
   "source": [
    "plt.plot(days, bitcoins_history, color = 'blue')\n",
    "plt.ylabel(\"Amount of Bitcoins\")\n",
    "plt.xlabel(\"Day\")\n",
    "plt.title(\"History of The Amount of Bitcoins over 365 days\")\n",
    "plt.ylim(0, 100000)\n",
    "\n",
    "plt.show()"
   ]
  },
  {
   "cell_type": "code",
   "execution_count": 149,
   "metadata": {},
   "outputs": [],
   "source": [
    "# Based on the graphs above, this strategy is extremely good. However, this strategy is too simplistic because of the strategy implicitely uses\n",
    "# the following simplistic assumptions:\n",
    "#    1) You can buy and sell bitcoins instantaneously.\n",
    "#    2) There is an unlimited number of bitcoins you can buy."
   ]
  }
 ],
 "metadata": {
  "kernelspec": {
   "display_name": "Python 3",
   "language": "python",
   "name": "python3"
  },
  "language_info": {
   "codemirror_mode": {
    "name": "ipython",
    "version": 3
   },
   "file_extension": ".py",
   "mimetype": "text/x-python",
   "name": "python",
   "nbconvert_exporter": "python",
   "pygments_lexer": "ipython3",
   "version": "3.7.2"
  }
 },
 "nbformat": 4,
 "nbformat_minor": 2
}
