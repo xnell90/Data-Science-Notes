{
 "cells": [
  {
   "cell_type": "code",
   "execution_count": 1,
   "metadata": {},
   "outputs": [
    {
     "name": "stdout",
     "output_type": "stream",
     "text": [
      "\n",
      "WARNING: The TensorFlow contrib module will not be included in TensorFlow 2.0.\n",
      "For more information, please see:\n",
      "  * https://github.com/tensorflow/community/blob/master/rfcs/20180907-contrib-sunset.md\n",
      "  * https://github.com/tensorflow/addons\n",
      "If you depend on functionality not listed there, please file an issue.\n",
      "\n"
     ]
    }
   ],
   "source": [
    "import tensorflow as tf\n",
    "import os\n",
    "os.environ['KMP_DUPLICATE_LIB_OK'] = 'True'\n",
    "tf.logging.set_verbosity(tf.logging.ERROR)\n",
    "\n",
    "steps   = 28\n",
    "indims  = 28\n",
    "neurons = 150\n",
    "outdims = 10\n",
    "\n",
    "learning_rate = 0.001\n",
    "\n",
    "X = tf.placeholder(tf.float32, [None, steps, indims])\n",
    "y = tf.placeholder(tf.int32, [None])\n",
    "\n",
    "basic_cell = tf.contrib.rnn.BasicRNNCell(num_units = neurons)\n",
    "outputs, states = tf.nn.dynamic_rnn(basic_cell, X, dtype = tf.float32)\n",
    "\n",
    "logits = tf.layers.dense(states, outdims)\n",
    "cross_entropy = tf.nn.sparse_softmax_cross_entropy_with_logits(labels = y, logits = logits)\n",
    "\n",
    "loss        = tf.reduce_mean(cross_entropy)\n",
    "optimizer   = tf.train.AdamOptimizer(learning_rate = learning_rate)\n",
    "training_op = optimizer.minimize(loss)\n",
    "correct     = tf.nn.in_top_k(logits, y, 1)\n",
    "accuracy    = tf.reduce_mean(tf.cast(correct, tf.float32))\n",
    "\n",
    "init = tf.global_variables_initializer()"
   ]
  },
  {
   "cell_type": "code",
   "execution_count": 2,
   "metadata": {},
   "outputs": [
    {
     "name": "stdout",
     "output_type": "stream",
     "text": [
      "Extracting /tmp/data/train-images-idx3-ubyte.gz\n",
      "Extracting /tmp/data/train-labels-idx1-ubyte.gz\n",
      "Extracting /tmp/data/t10k-images-idx3-ubyte.gz\n",
      "Extracting /tmp/data/t10k-labels-idx1-ubyte.gz\n"
     ]
    }
   ],
   "source": [
    "from tensorflow.examples.tutorials.mnist import input_data\n",
    "\n",
    "mnist = input_data.read_data_sets(\"/tmp/data/\")\n",
    "X_test = mnist.test.images.reshape((-1, steps, indims))\n",
    "y_test = mnist.test.labels"
   ]
  },
  {
   "cell_type": "code",
   "execution_count": 3,
   "metadata": {},
   "outputs": [
    {
     "name": "stdout",
     "output_type": "stream",
     "text": [
      "0 Train Accuracy: 0.9200, Test Accuracy: 0.9069\n",
      "1 Train Accuracy: 0.9467, Test Accuracy: 0.9434\n",
      "2 Train Accuracy: 0.9800, Test Accuracy: 0.9433\n",
      "3 Train Accuracy: 0.9400, Test Accuracy: 0.9598\n",
      "4 Train Accuracy: 0.9667, Test Accuracy: 0.9638\n",
      "5 Train Accuracy: 0.9800, Test Accuracy: 0.9614\n",
      "6 Train Accuracy: 0.9867, Test Accuracy: 0.9652\n",
      "7 Train Accuracy: 0.9800, Test Accuracy: 0.9728\n",
      "8 Train Accuracy: 0.9800, Test Accuracy: 0.9648\n",
      "9 Train Accuracy: 0.9867, Test Accuracy: 0.9699\n"
     ]
    }
   ],
   "source": [
    "epochs = 10\n",
    "batch_size = 150\n",
    "\n",
    "with tf.Session() as sess:\n",
    "    init.run()\n",
    "    \n",
    "    for epoch in range(epochs):\n",
    "        num_batches = mnist.train.num_examples // batch_size\n",
    "        for iteration in range(num_batches):\n",
    "            X_batch, y_batch = mnist.train.next_batch(batch_size)\n",
    "            X_batch = X_batch.reshape((-1, steps, indims))\n",
    "            sess.run(training_op, feed_dict = {X: X_batch, y: y_batch})\n",
    "        \n",
    "        train_accuracy = accuracy.eval(feed_dict = {X: X_batch, y: y_batch})\n",
    "        test_accuracy  = accuracy.eval(feed_dict = {X: X_test, y: y_test})\n",
    "        print(epoch, \"Train Accuracy: %0.4f, Test Accuracy: %0.4f\" % (train_accuracy, test_accuracy))"
   ]
  }
 ],
 "metadata": {
  "kernelspec": {
   "display_name": "Python 3",
   "language": "python",
   "name": "python3"
  },
  "language_info": {
   "codemirror_mode": {
    "name": "ipython",
    "version": 3
   },
   "file_extension": ".py",
   "mimetype": "text/x-python",
   "name": "python",
   "nbconvert_exporter": "python",
   "pygments_lexer": "ipython3",
   "version": "3.7.2"
  }
 },
 "nbformat": 4,
 "nbformat_minor": 2
}
